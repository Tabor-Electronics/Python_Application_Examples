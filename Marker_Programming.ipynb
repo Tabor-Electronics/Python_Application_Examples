{
 "cells": [
  {
   "cell_type": "code",
   "execution_count": 21,
   "id": "2334f646",
   "metadata": {},
   "outputs": [],
   "source": [
    "import os\n",
    "import sys\n",
    "import tempfile\n",
    "import webbrowser\n",
    "\n",
    "srcpath = os.path.realpath('SourceFiles')\n",
    "sys.path.append(srcpath)\n",
    "from teproteus import TEProteusAdmin as TepAdmin\n",
    "from teproteus import TEProteusInst as TepInst\n",
    "from teproteus_functions_v3 import connect\n",
    "from teproteus_functions_v3 import disconnect\n",
    "from teproteus_functions_v3 import set_lib_dir_path\n",
    "from teproteus_functions_v3 import get_cpatured_header\n",
    "from teproteus_functions_v3 import gauss_env\n",
    "from teproteus_functions_v3 import iq_kernel\n",
    "from teproteus_functions_v3 import pack_kernel_data\n",
    "from tevisainst import TEVisaInst\n",
    "\n",
    "# matplotlib notebook\n",
    "import numpy as np\n",
    "import time\n",
    "import ipywidgets as widgets\n",
    "from IPython.core.debugger import set_trace\n",
    "from scipy.signal import chirp, sweep_poly\n",
    "import matplotlib.pyplot as plt\n",
    "plt.style.use('ggplot')\n",
    "from scipy import signal\n",
    "from scipy.signal import fftconvolve\n",
    "import math"
   ]
  },
  {
   "cell_type": "code",
   "execution_count": 22,
   "id": "b32e7f4b",
   "metadata": {},
   "outputs": [],
   "source": [
    "# Proteus Parameters\n",
    "max_dac         = 2**16 - 1                                                        # Max DAC Value\n",
    "half_dac        = np.round(max_dac/2)\n",
    "wav_data_type   = np.uint16\n",
    "\n",
    "# MArk Data Type\n",
    "mark_max_dac    = 2**8 - 1                                                         # Max DAC Value for Mark Data\n",
    "mark_half_dac   = np.round(mark_max_dac/2)\n",
    "mark_data_type  = np.uint8\n",
    "\n",
    "# Proteus AWG Parameters\n",
    "chNum           = 1                                                                      # No. of Channels\n",
    "granual         = 64                                                                     # Granularity of the DAC    \n",
    "minLen          = 128                                                                    # Minimum Segments to be used in the AWG\n",
    "segLen          = 2**12                                                                  # Length of the Segments to be used in the AWG, this should in multiple of Granularity\n",
    "\n",
    "# AWG Setting Parameters\n",
    "sampleRate      = 9.0E+9                                                                 # Sampling Rate\n",
    "OUTPV           = 0.50                                                                   # Channel O/P Voltage"
   ]
  },
  {
   "cell_type": "code",
   "execution_count": 23,
   "id": "52feeb6d",
   "metadata": {},
   "outputs": [
    {
     "name": "stdout",
     "output_type": "stream",
     "text": [
      "process id 26180\n",
      "0, no error\n",
      "Connected to: Tabor Electronics,P9484D,000002210902,1.240.35 --slot#: 5, \n",
      "Model: P9484D \n",
      "Number of channels: 4\n"
     ]
    }
   ],
   "source": [
    "# Connect to instrument\n",
    "\n",
    "pid = os.getpid()\n",
    "print('process id {0}'.format(pid))\n",
    "\n",
    "proteus_addr = 'TCPIP::169.254.103.249::5025::SOCKET'\n",
    "\n",
    "try:\n",
    "    proteus = TEVisaInst(proteus_addr)\n",
    "except TEVisaInst.Error as ex1:\n",
    "    print('Could not connect to %s', proteus_addr)\n",
    "    sys.exit()\n",
    "\n",
    "proteus.default_paranoia_level = 2 # Set the default paranoia-level (0, 1 or 2)\n",
    "\n",
    "# Clear reset the instrument\n",
    "proteus.send_scpi_cmd('*CLS; *RST')\n",
    "\n",
    "# Instrument's identification and slot details\n",
    "resp = proteus.send_scpi_query(\":SYST:ERR?\")  #To check system error-list\n",
    "print(resp)\n",
    "resp = proteus.send_scpi_query('*IDN?')\n",
    "print('Connected to: ' + resp)\n",
    "\n",
    "# Get the model:\n",
    "model_name = proteus.send_scpi_query('SYST:INF:MODel?')\n",
    "print('Model: {0} '.format(model_name))\n",
    "\n",
    "# Get number of channels\n",
    "num_channels = int(proteus.send_scpi_query(':INST:CHAN? MAX'))\n",
    "print('Number of channels: {}'.format(num_channels))"
   ]
  },
  {
   "cell_type": "code",
   "execution_count": 24,
   "id": "85f1d3dc",
   "metadata": {},
   "outputs": [
    {
     "name": "stdout",
     "output_type": "stream",
     "text": [
      "Waveform Length: 4096\n",
      "Marker Length: 512\n"
     ]
    },
    {
     "data": {
      "text/plain": [
       "[<matplotlib.lines.Line2D at 0x22c41181f70>]"
      ]
     },
     "execution_count": 24,
     "metadata": {},
     "output_type": "execute_result"
    },
    {
     "data": {
      "image/png": "[encoded data removed]",
      "text/plain": [
       "<Figure size 640x480 with 1 Axes>"
      ]
     },
     "metadata": {},
     "output_type": "display_data"
    }
   ],
   "source": [
    "# Generate the waveform\n",
    "\n",
    "wav = np.zeros(segLen)  # Create the waveform array\n",
    "\n",
    "wav   = (wav + 1.0) * half_dac\n",
    "wav   = np.round(wav)\n",
    "wav   = np.clip(wav, 0, max_dac)\n",
    "wav   = wav.astype(wav_data_type)\n",
    "\n",
    "# Generate Marker\n",
    "markLen = int(segLen/8)\n",
    "marker  = np.zeros(markLen)  # Create the marker array\n",
    "\n",
    "for i in range(0, markLen):\n",
    "    if i < (markLen / 2):\n",
    "        marker[i] = 0\n",
    "    else:\n",
    "        marker[i] = 1\n",
    "\n",
    "marker = (marker + 1.0) * mark_half_dac\n",
    "marker = np.round(marker)\n",
    "marker = np.clip(marker, 0, mark_max_dac)\n",
    "marker = marker.astype(mark_data_type)\n",
    "\n",
    "print('Waveform Length: {}'.format(len(wav)))\n",
    "print('Marker Length: {}'.format(len(marker)))\n",
    "plt.plot(marker)"
   ]
  },
  {
   "cell_type": "code",
   "execution_count": null,
   "id": "4fd7e225",
   "metadata": {},
   "outputs": [
    {
     "name": "stdout",
     "output_type": "stream",
     "text": [
      "0, no error\n",
      "0, no error\n"
     ]
    }
   ],
   "source": [
    "# Download the waveform to the selected segment\n",
    "proteus.send_scpi_cmd(':INST:CHAN {0}'.format(chNum)) # Select channel\n",
    "proteus.send_scpi_cmd(':TRAC:DEF 1, {0}' .format(len(wav)))\n",
    "proteus.send_scpi_cmd(':TRAC:SEL 1')\n",
    "proteus.write_binary_data(':TRAC:DATA', wav)\n",
    "resp = proteus.send_scpi_query(':SYST:ERR?')\n",
    "print(resp)\n",
    "\n",
    "# Doanload the marker to the selected segment\n",
    "# Select the channel\n",
    "proteus.send_scpi_cmd(':INST:CHAN 1')\n",
    "# Select the marker\n",
    "proteus.send_scpi_cmd(':MARK:SEL 1')\n",
    "# Download the marker data\n",
    "proteus.write_binary_data(':MARK:DATA', marker)\n",
    "\n",
    "# Select the channel\n",
    "proteus.send_scpi_cmd(':INST:CHAN 1')\n",
    "\n",
    "# Select the Marker\n",
    "proteus.send_scpi_cmd(':MARK:SEL 1')\n",
    "\n",
    "# Set Marker Peak to Peak Voltage\n",
    "proteus.send_scpi_cmd(':MARK:VOLT:PTOP 1.0')\n",
    "\n",
    "# Set Marker Offset Voltage\n",
    "proteus.send_scpi_cmd(':MARK:VOLT:OFFS 0.0')\n",
    "\n",
    "# Turn on the marker\n",
    "proteus.send_scpi_cmd(':MARK ON') \n",
    "resp = proteus.send_scpi_query(':SYST:ERR?')\n",
    "print(resp)"
   ]
  },
  {
   "cell_type": "code",
   "execution_count": null,
   "id": "1fff109b",
   "metadata": {},
   "outputs": [
    {
     "data": {
      "text/plain": [
       "0"
      ]
     },
     "execution_count": 28,
     "metadata": {},
     "output_type": "execute_result"
    }
   ],
   "source": [
    "# Select the module\n",
    "proteus.send_scpi_cmd(':INST:ACT:SEL 1') # Select Master module\n",
    "proteus.send_scpi_cmd(':INST:CHAN {0}'.format(chNum)) # Select channel\n",
    "proteus.send_scpi_cmd(':SOUR:FREQ:RAST {0}'.format(sampleRate))\n",
    "\n",
    "# Set the task to play chirp signal\n",
    "proteus.send_scpi_cmd(':INST:CHAN {0}'.format(chNum)) # Select channel\n",
    "proteus.send_scpi_cmd(':FUNC:MODE:SEGM {0}'.format(chNum)) # Select segment mode\n",
    "\n",
    "# Set ouput voltage\n",
    "proteus.send_scpi_cmd('VOLT {0}'.format(OUTPV))\n",
    "\n",
    "# Switch on output\n",
    "proteus.send_scpi_cmd(':OUTP ON') # O/P ON"
   ]
  },
  {
   "cell_type": "code",
   "execution_count": null,
   "id": "22bc9ad5",
   "metadata": {},
   "outputs": [],
   "source": [
    "disconnect()"
   ]
  }
 ],
 "metadata": {
  "kernelspec": {
   "display_name": "base",
   "language": "python",
   "name": "python3"
  },
  "language_info": {
   "codemirror_mode": {
    "name": "ipython",
    "version": 3
   },
   "file_extension": ".py",
   "mimetype": "text/x-python",
   "name": "python",
   "nbconvert_exporter": "python",
   "pygments_lexer": "ipython3",
   "version": "3.12.4"
  }
 },
 "nbformat": 4,
 "nbformat_minor": 5
}
