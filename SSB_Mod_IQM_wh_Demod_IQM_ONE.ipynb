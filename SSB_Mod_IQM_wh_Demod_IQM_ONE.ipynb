{
 "cells": [
  {
   "cell_type": "code",
   "execution_count": 50,
   "metadata": {},
   "outputs": [],
   "source": [
    "import os\n",
    "import sys\n",
    "import tempfile\n",
    "import webbrowser\n",
    "\n",
    "srcpath = os.path.realpath('SourceFiles')\n",
    "sys.path.append(srcpath)\n",
    "from teproteus import TEProteusAdmin as TepAdmin\n",
    "from teproteus import TEProteusInst as TepInst\n",
    "from teproteus_functions_v3 import connect\n",
    "from teproteus_functions_v3 import disconnect\n",
    "from teproteus_functions_v3 import set_lib_dir_path\n",
    "from teproteus_functions_v3 import get_cpatured_header\n",
    "from teproteus_functions_v3 import gauss_env\n",
    "from teproteus_functions_v3 import iq_kernel\n",
    "from teproteus_functions_v3 import pack_kernel_data\n",
    "from tevisainst import TEVisaInst\n",
    "\n",
    "# matplotlib notebook\n",
    "import numpy as np\n",
    "import time\n",
    "import ipywidgets as widgets\n",
    "from IPython.core.debugger import set_trace\n",
    "from scipy.signal import chirp, sweep_poly\n",
    "import matplotlib.pyplot as plt\n",
    "plt.style.use('ggplot')\n",
    "from scipy import signal\n",
    "from scipy.signal import fftconvolve\n",
    "import math"
   ]
  },
  {
   "cell_type": "code",
   "execution_count": 51,
   "metadata": {},
   "outputs": [],
   "source": [
    "def interleave(wfm_i, wfm_q) :\n",
    "    assert (len(wfm_i) == len(wfm_q))\n",
    "    half_len = len(wfm_i)\n",
    "    a = np.empty(2 * half_len)\n",
    "    b = a.view()\n",
    "    b.shape = (half_len, 2)\n",
    "    b[:, 0] = wfm_i\n",
    "    b[:, 1] = wfm_q\n",
    "    return a\n",
    "\n",
    "# Proteus Parameters\n",
    "max_dac         = 65535\n",
    "half_dac        = np.round(max_dac/2)\n",
    "data_type       = np.uint16\n",
    "chNum           = 1                                                                  # No. of Channels\n",
    "granual         = 64                                                                 # Granularity of the DAC    \n",
    "interpol        = 8                                                                  # Interpolation Factor, 1 = NONE, 2 = X2, 4 = X4, 8 = X8\n",
    "\n",
    "# Build two AWG segment one for I and one for Q\n",
    "mod_freq        = 20E+6                                                              # Modulation Frequency\n",
    "segLen          = 2**14\n",
    "req_sb          = 'USB'                                                              # Side Band Selection, LSB = Lower Side Band, USB = Upper Side Band\n",
    "\n",
    "# NCO Setting Parameters\n",
    "cwFreq          = 1800.0E+6                                                          # Center Frequency per Channel\n",
    "phase           = 0                                                                 # Phase of signal\n",
    "apply6db        = 1                                                                  # Enable 6 dB Gain\n",
    "\n",
    "# AWG Setting Parameters\n",
    "samplingRate    = 9.0E+9                                                             # Sampling Rate\n",
    "OUTPV           = 0.50                                                               # Channel O/P Voltage\n"
   ]
  },
  {
   "cell_type": "code",
   "execution_count": 52,
   "metadata": {},
   "outputs": [
    {
     "name": "stdout",
     "output_type": "stream",
     "text": [
      "process id 21724\n",
      "108, Unknown error\n",
      "Connected to: Tabor Electronics,P9484D,000002210902,1.240.35 --slot#: 5, \n",
      "Model: P9484D \n",
      "Number of channels: 4\n"
     ]
    },
    {
     "data": {
      "text/plain": [
       "0"
      ]
     },
     "execution_count": 52,
     "metadata": {},
     "output_type": "execute_result"
    }
   ],
   "source": [
    "# Connect to instrument\n",
    "\n",
    "pid = os.getpid()\n",
    "print('process id {0}'.format(pid))\n",
    "\n",
    "proteus_addr = 'TCPIP::169.254.103.249::5025::SOCKET'\n",
    "\n",
    "try:\n",
    "    proteus = TEVisaInst(proteus_addr)\n",
    "except TEVisaInst.Error as ex1:\n",
    "    print('Could not connect to %s', proteus_addr)\n",
    "    sys.exit()\n",
    "\n",
    "proteus.default_paranoia_level = 2 # Set the default paranoia-level (0, 1 or 2)\n",
    "\n",
    "# Instrument's identification and slot details\n",
    "resp = proteus.send_scpi_query(\":SYST:ERR?\")  #To check system error-list\n",
    "print(resp)\n",
    "resp = proteus.send_scpi_query('*IDN?')\n",
    "print('Connected to: ' + resp)\n",
    "\n",
    "# Get the model:\n",
    "model_name = proteus.send_scpi_query('SYST:INF:MODel?')\n",
    "print('Model: {0} '.format(model_name))\n",
    "\n",
    "# Get number of channels\n",
    "num_channels = int(proteus.send_scpi_query(':INST:CHAN? MAX'))\n",
    "print('Number of channels: {}'.format(num_channels))\n",
    "\n",
    "# Clear reset the instrument\n",
    "proteus.send_scpi_cmd('*CLS; *RST')\n",
    "\n",
    "# Clear and Delete Traces\n",
    "proteus.send_scpi_cmd(':TRAC:ZERO:ALL')\n",
    "proteus.send_scpi_cmd(':TRAC:DEL:ALL')"
   ]
  },
  {
   "cell_type": "code",
   "execution_count": null,
   "metadata": {},
   "outputs": [
    {
     "name": "stdout",
     "output_type": "stream",
     "text": [
      "32768\n"
     ]
    },
    {
     "data": {
      "text/plain": [
       "[<matplotlib.lines.Line2D at 0x1faf1d4d340>]"
      ]
     },
     "execution_count": 53,
     "metadata": {},
     "output_type": "execute_result"
    },
    {
     "data": {
      "image/png": "[encoded data removed]",
      "text/plain": [
       "<Figure size 640x480 with 1 Axes>"
      ]
     },
     "metadata": {},
     "output_type": "display_data"
    }
   ],
   "source": [
    "# download it to segment 1 of channel 1\n",
    "\n",
    "t       = np.zeros(segLen)\n",
    "waveI   = np.zeros(segLen)\n",
    "waveQ   = np.zeros(segLen)\n",
    "\n",
    "# Build waveform (cosine wave)\n",
    "for i in range(0, segLen):\n",
    "    t[i] = (i/(samplingRate/interpol))\n",
    "\n",
    "waveI = np.sin(2*np.pi*mod_freq*t)\n",
    "\n",
    "# Taking the Hilbert transform of the I signal to get the Q signal\n",
    "waveQ = np.imag(signal.hilbert(waveI))\n",
    "\n",
    "myWave1 = interleave(waveI, waveQ)    # generates Upper Sideband\n",
    "# myWave1 = interleave(waveQ, waveI)    # generates Lower Sideband\n",
    "\n",
    "myWave = (myWave1 + 1.0) * half_dac\n",
    "myWave = np.round(myWave)\n",
    "myWave = np.clip(myWave, 0, max_dac)\n",
    "myWave = myWave.astype(data_type)\n",
    "\n",
    "print(len(myWave))\n",
    "plt.plot(myWave[0:500])"
   ]
  },
  {
   "cell_type": "code",
   "execution_count": null,
   "metadata": {},
   "outputs": [
    {
     "name": "stdout",
     "output_type": "stream",
     "text": [
      "0, no error\n"
     ]
    }
   ],
   "source": [
    "# Select channel 1\n",
    "proteus.send_scpi_cmd(':INST:CHAN 1') \n",
    "# Define segment for waveform with length of myWave\n",
    "proteus.send_scpi_cmd(':TRAC:DEF 1, {0}' .format(len(myWave)))\n",
    "# Select segment 1\n",
    "proteus.send_scpi_cmd(':TRAC:SEL 1') \n",
    "\n",
    "# download the waveform to the selected segment\n",
    "proteus.write_binary_data(':TRAC:DATA', myWave)\n",
    "# Check for errors\n",
    "resp = proteus.send_scpi_query(':SYST:ERR?')\n",
    "# print the error message if any \n",
    "print(resp) \n"
   ]
  },
  {
   "cell_type": "code",
   "execution_count": null,
   "metadata": {},
   "outputs": [
    {
     "name": "stdout",
     "output_type": "stream",
     "text": [
      "Selecting Instrument: 1\n"
     ]
    },
    {
     "data": {
      "text/plain": [
       "0"
      ]
     },
     "execution_count": 55,
     "metadata": {},
     "output_type": "execute_result"
    }
   ],
   "source": [
    "# NCO Frequency calculation\n",
    "ncoFreq = cwFreq \n",
    "\n",
    "while (ncoFreq > samplingRate):\n",
    "    ncoFreq = ncoFreq - samplingRate\n",
    "\n",
    "proteus.send_scpi_cmd(':INST:ACT:SEL 1')  # Select Master module\n",
    "res = proteus.send_scpi_query(':INST:ACT:SEL?')\n",
    "print('Selecting Instrument: '+ res)\n",
    "\n",
    "# Select the channel to configure\n",
    "proteus.send_scpi_cmd(':INST:CHAN 1') # Select channel 1\n",
    "\n",
    "phs = phase\n",
    "\n",
    "# Set the baseband sampling rate to setup the DUC \n",
    "proteus.send_scpi_cmd(':SOUR:FREQ:RAST {0}'.format(2.5E+9))\n",
    "\n",
    "# Set DUC mode for the Channel\n",
    "proteus.send_scpi_cmd(':SOUR:MODE DUC') \n",
    "\n",
    "# Set the interpolation factor\n",
    "if interpol == 1:\n",
    "    proteus.send_scpi_cmd(':SOUR:INT NONE')\n",
    "else:\n",
    "    proteus.send_scpi_cmd(':SOUR:INT X{0}' .format(interpol))      # X2 | X4 | X8    \n",
    "\n",
    "# Set the IQM Mode for the Channel\n",
    "proteus.send_scpi_cmd(':SOUR:IQM ONE')     # HALF | ONE| TWO\n",
    "    \n",
    "# Set NCO Frequency\n",
    "proteus.send_scpi_cmd(':NCO:CFR1 {0}'.format(ncoFreq)) # CHANGE to CFR1\n",
    "\n",
    "# Set NCO Phase\n",
    "proteus.send_scpi_cmd(':NCO:PHAS1 {0}'.format(phs)) #CHANGE to PHAS1\n",
    "\n",
    "# Apply amplitude boost to NCO\n",
    "if apply6db == 1:\n",
    "    proteus.send_scpi_cmd(':NCO:SIXD1 ON')\n",
    "else:\n",
    "    proteus.send_scpi_cmd(':NCO:SIXD1 OFF')\n",
    "\n",
    "# Select segment mode and Segment to Play\n",
    "proteus.send_scpi_cmd(':SOUR:FUNC:MODE:SEGM {0}' .format(1)) \n",
    "\n",
    "# Set sampling rate\n",
    "proteus.send_scpi_cmd(':SOUR:FREQ:RAST {0}'.format(samplingRate)) \n",
    "\n",
    "# Set ouput voltage to Maximum\n",
    "proteus.send_scpi_cmd(':SOUR:VOLT {0}'.format(OUTPV))\n",
    "\n",
    "# Turn on the output\n",
    "proteus.send_scpi_cmd(':OUTP ON')"
   ]
  },
  {
   "cell_type": "code",
   "execution_count": null,
   "metadata": {},
   "outputs": [],
   "source": [
    "disconnect()"
   ]
  }
 ],
 "metadata": {
  "kernelspec": {
   "display_name": "base",
   "language": "python",
   "name": "python3"
  },
  "language_info": {
   "codemirror_mode": {
    "name": "ipython",
    "version": 3
   },
   "file_extension": ".py",
   "mimetype": "text/x-python",
   "name": "python",
   "nbconvert_exporter": "python",
   "pygments_lexer": "ipython3",
   "version": "3.12.4"
  }
 },
 "nbformat": 4,
 "nbformat_minor": 2
}
